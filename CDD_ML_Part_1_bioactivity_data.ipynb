{
 "cells": [
  {
   "cell_type": "markdown",
   "metadata": {
    "colab_type": "text",
    "id": "wSFbIMb87cHu"
   },
   "source": [
    "# **Computational Drug Discovery [Part 1] Download Bioactivity Data**\n",
    "\n",
    "Chanin Nantasenamat\n",
    "\n",
    "[*'Data Professor' YouTube channel*](http://youtube.com/dataprofessor)\n",
    "\n",
    "In this Jupyter notebook, we will be building a real-life **data science project** that you can include in your **data science portfolio**. Particularly, we will be building a machine learning model using the ChEMBL bioactivity data.\n",
    "\n",
    "---"
   ]
  },
  {
   "cell_type": "markdown",
   "metadata": {
    "colab_type": "text",
    "id": "3iQiERxumDor"
   },
   "source": [
    "## **ChEMBL Database**\n",
    "\n",
    "The [*ChEMBL Database*](https://www.ebi.ac.uk/chembl/) is a database that contains curated bioactivity data of more than 2 million compounds. It is compiled from more than 76,000 documents, 1.2 million assays and the data spans 13,000 targets and 1,800 cells and 33,000 indications.\n",
    "[Data as of March 25, 2020; ChEMBL version 26]."
   ]
  },
  {
   "cell_type": "markdown",
   "metadata": {
    "colab_type": "text",
    "id": "iryGAwAIQ4yf"
   },
   "source": [
    "## **Installing libraries**"
   ]
  },
  {
   "cell_type": "markdown",
   "metadata": {
    "colab_type": "text",
    "id": "toGT1U_B7F2i"
   },
   "source": [
    "Install the ChEMBL web service package so that we can retrieve bioactivity data from the ChEMBL Database."
   ]
  },
  {
   "cell_type": "code",
   "execution_count": 1,
   "metadata": {
    "colab": {
     "base_uri": "https://localhost:8080/",
     "height": 349
    },
    "colab_type": "code",
    "id": "cJGExHQBfLh7",
    "outputId": "783c9cb5-c5d4-4545-a9d3-6c2a2f2b0e53"
   },
   "outputs": [
    {
     "name": "stdout",
     "output_type": "stream",
     "text": [
      "Collecting chembl_webresource_client\n",
      "  Downloading chembl_webresource_client-0.10.8-py3-none-any.whl (55 kB)\n",
      "\u001b[2K     \u001b[90m━━━━━━━━━━━━━━━━━━━━━━━━━━━━━━━━━━━━━━━━\u001b[0m \u001b[32m55.2/55.2 kB\u001b[0m \u001b[31m2.9 MB/s\u001b[0m eta \u001b[36m0:00:00\u001b[0m\n",
      "\u001b[?25hRequirement already satisfied: requests>=2.18.4 in /Users/gcms/.pyenv/versions/3.10.6/envs/lewagon/lib/python3.10/site-packages (from chembl_webresource_client) (2.28.1)\n",
      "Requirement already satisfied: urllib3 in /Users/gcms/.pyenv/versions/3.10.6/envs/lewagon/lib/python3.10/site-packages (from chembl_webresource_client) (1.26.12)\n",
      "Collecting easydict\n",
      "  Downloading easydict-1.10.tar.gz (6.4 kB)\n",
      "  Preparing metadata (setup.py) ... \u001b[?25ldone\n",
      "\u001b[?25hCollecting requests-cache~=0.7.0\n",
      "  Downloading requests_cache-0.7.5-py3-none-any.whl (39 kB)\n",
      "Requirement already satisfied: charset-normalizer<3,>=2 in /Users/gcms/.pyenv/versions/3.10.6/envs/lewagon/lib/python3.10/site-packages (from requests>=2.18.4->chembl_webresource_client) (2.1.1)\n",
      "Requirement already satisfied: idna<4,>=2.5 in /Users/gcms/.pyenv/versions/3.10.6/envs/lewagon/lib/python3.10/site-packages (from requests>=2.18.4->chembl_webresource_client) (3.4)\n",
      "Requirement already satisfied: certifi>=2017.4.17 in /Users/gcms/.pyenv/versions/3.10.6/envs/lewagon/lib/python3.10/site-packages (from requests>=2.18.4->chembl_webresource_client) (2022.9.24)\n",
      "Collecting itsdangerous>=2.0.1\n",
      "  Using cached itsdangerous-2.1.2-py3-none-any.whl (15 kB)\n",
      "Collecting url-normalize<2.0,>=1.4\n",
      "  Using cached url_normalize-1.4.3-py2.py3-none-any.whl (6.8 kB)\n",
      "Requirement already satisfied: pyyaml>=5.4 in /Users/gcms/.pyenv/versions/3.10.6/envs/lewagon/lib/python3.10/site-packages (from requests-cache~=0.7.0->chembl_webresource_client) (6.0)\n",
      "Collecting attrs<22.0,>=21.2\n",
      "  Downloading attrs-21.4.0-py2.py3-none-any.whl (60 kB)\n",
      "\u001b[2K     \u001b[90m━━━━━━━━━━━━━━━━━━━━━━━━━━━━━━━━━━━━━━━━\u001b[0m \u001b[32m60.6/60.6 kB\u001b[0m \u001b[31m2.9 MB/s\u001b[0m eta \u001b[36m0:00:00\u001b[0m\n",
      "\u001b[?25hRequirement already satisfied: six in /Users/gcms/.pyenv/versions/3.10.6/envs/lewagon/lib/python3.10/site-packages (from url-normalize<2.0,>=1.4->requests-cache~=0.7.0->chembl_webresource_client) (1.16.0)\n",
      "Building wheels for collected packages: easydict\n",
      "  Building wheel for easydict (setup.py) ... \u001b[?25ldone\n",
      "\u001b[?25h  Created wheel for easydict: filename=easydict-1.10-py3-none-any.whl size=6492 sha256=36d62502abe495d4a662a0c8019bc18b5a3e96168ec04e46077525bf26d4df56\n",
      "  Stored in directory: /Users/gcms/Library/Caches/pip/wheels/21/9b/57/0cd00a2b5410728375da2d48142d0974f5c40d26e742ab0a80\n",
      "Successfully built easydict\n",
      "Installing collected packages: easydict, url-normalize, itsdangerous, attrs, requests-cache, chembl_webresource_client\n",
      "  Attempting uninstall: attrs\n",
      "    Found existing installation: attrs 22.1.0\n",
      "    Uninstalling attrs-22.1.0:\n",
      "      Successfully uninstalled attrs-22.1.0\n",
      "Successfully installed attrs-21.4.0 chembl_webresource_client-0.10.8 easydict-1.10 itsdangerous-2.1.2 requests-cache-0.7.5 url-normalize-1.4.3\n"
     ]
    }
   ],
   "source": [
    "! pip install chembl_webresource_client"
   ]
  },
  {
   "cell_type": "markdown",
   "metadata": {
    "colab_type": "text",
    "id": "J0kJjL8gb5nX"
   },
   "source": [
    "## **Importing libraries**"
   ]
  },
  {
   "cell_type": "code",
   "execution_count": 2,
   "metadata": {
    "colab": {},
    "colab_type": "code",
    "id": "RXoCvMPPfNrv"
   },
   "outputs": [],
   "source": [
    "# Import necessary libraries\n",
    "import pandas as pd\n",
    "from chembl_webresource_client.new_client import new_client"
   ]
  },
  {
   "cell_type": "markdown",
   "metadata": {
    "colab_type": "text",
    "id": "1FgUai1bfigC"
   },
   "source": [
    "## **Search for Target protein**"
   ]
  },
  {
   "cell_type": "markdown",
   "metadata": {
    "colab_type": "text",
    "id": "7lBsDrD0gAqH"
   },
   "source": [
    "### **Target search for coronavirus**"
   ]
  },
  {
   "cell_type": "code",
   "execution_count": 3,
   "metadata": {
    "colab": {
     "base_uri": "https://localhost:8080/",
     "height": 145
    },
    "colab_type": "code",
    "id": "Vxtp79so4ZjF",
    "outputId": "e90dde45-1c0d-4fd9-f693-cb6e6032e2cd"
   },
   "outputs": [
    {
     "data": {
      "text/html": [
       "<div>\n",
       "<style scoped>\n",
       "    .dataframe tbody tr th:only-of-type {\n",
       "        vertical-align: middle;\n",
       "    }\n",
       "\n",
       "    .dataframe tbody tr th {\n",
       "        vertical-align: top;\n",
       "    }\n",
       "\n",
       "    .dataframe thead th {\n",
       "        text-align: right;\n",
       "    }\n",
       "</style>\n",
       "<table border=\"1\" class=\"dataframe\">\n",
       "  <thead>\n",
       "    <tr style=\"text-align: right;\">\n",
       "      <th></th>\n",
       "      <th>cross_references</th>\n",
       "      <th>organism</th>\n",
       "      <th>pref_name</th>\n",
       "      <th>score</th>\n",
       "      <th>species_group_flag</th>\n",
       "      <th>target_chembl_id</th>\n",
       "      <th>target_components</th>\n",
       "      <th>target_type</th>\n",
       "      <th>tax_id</th>\n",
       "    </tr>\n",
       "  </thead>\n",
       "  <tbody>\n",
       "    <tr>\n",
       "      <th>0</th>\n",
       "      <td>[{'xref_id': 'P11511', 'xref_name': None, 'xre...</td>\n",
       "      <td>Homo sapiens</td>\n",
       "      <td>Cytochrome P450 19A1</td>\n",
       "      <td>20.0</td>\n",
       "      <td>False</td>\n",
       "      <td>CHEMBL1978</td>\n",
       "      <td>[{'accession': 'P11511', 'component_descriptio...</td>\n",
       "      <td>SINGLE PROTEIN</td>\n",
       "      <td>9606</td>\n",
       "    </tr>\n",
       "    <tr>\n",
       "      <th>1</th>\n",
       "      <td>[{'xref_id': 'P22443', 'xref_name': None, 'xre...</td>\n",
       "      <td>Rattus norvegicus</td>\n",
       "      <td>Cytochrome P450 19A1</td>\n",
       "      <td>20.0</td>\n",
       "      <td>False</td>\n",
       "      <td>CHEMBL3859</td>\n",
       "      <td>[{'accession': 'P22443', 'component_descriptio...</td>\n",
       "      <td>SINGLE PROTEIN</td>\n",
       "      <td>10116</td>\n",
       "    </tr>\n",
       "  </tbody>\n",
       "</table>\n",
       "</div>"
      ],
      "text/plain": [
       "                                    cross_references           organism  \\\n",
       "0  [{'xref_id': 'P11511', 'xref_name': None, 'xre...       Homo sapiens   \n",
       "1  [{'xref_id': 'P22443', 'xref_name': None, 'xre...  Rattus norvegicus   \n",
       "\n",
       "              pref_name  score  species_group_flag target_chembl_id  \\\n",
       "0  Cytochrome P450 19A1   20.0               False       CHEMBL1978   \n",
       "1  Cytochrome P450 19A1   20.0               False       CHEMBL3859   \n",
       "\n",
       "                                   target_components     target_type  tax_id  \n",
       "0  [{'accession': 'P11511', 'component_descriptio...  SINGLE PROTEIN    9606  \n",
       "1  [{'accession': 'P22443', 'component_descriptio...  SINGLE PROTEIN   10116  "
      ]
     },
     "execution_count": 3,
     "metadata": {},
     "output_type": "execute_result"
    }
   ],
   "source": [
    "# Target search for coronavirus\n",
    "target = new_client.target\n",
    "target_query = target.search('aromatase')\n",
    "targets = pd.DataFrame.from_dict(target_query)\n",
    "targets"
   ]
  },
  {
   "cell_type": "markdown",
   "metadata": {
    "colab_type": "text",
    "id": "Y5OPfEALjAfZ"
   },
   "source": [
    "### **Select and retrieve bioactivity data for *SARS coronavirus 3C-like proteinase* (fifth entry)**"
   ]
  },
  {
   "cell_type": "markdown",
   "metadata": {
    "colab_type": "text",
    "id": "gSQ3aroOgML7"
   },
   "source": [
    "We will assign the fifth entry (which corresponds to the target protein, *coronavirus 3C-like proteinase*) to the ***selected_target*** variable "
   ]
  },
  {
   "cell_type": "code",
   "execution_count": 5,
   "metadata": {
    "colab": {
     "base_uri": "https://localhost:8080/",
     "height": 35
    },
    "colab_type": "code",
    "id": "StrcHMVLha7u",
    "outputId": "a558535b-c66a-42ce-8604-3cf34dbff90b"
   },
   "outputs": [
    {
     "data": {
      "text/plain": [
       "'CHEMBL3859'"
      ]
     },
     "execution_count": 5,
     "metadata": {},
     "output_type": "execute_result"
    }
   ],
   "source": [
    "selected_target = targets.target_chembl_id[1]\n",
    "selected_target"
   ]
  },
  {
   "cell_type": "markdown",
   "metadata": {
    "colab_type": "text",
    "id": "GWd2DRalgjzB"
   },
   "source": [
    "Here, we will retrieve only bioactivity data for *coronavirus 3C-like proteinase* (CHEMBL3927) that are reported as IC$_{50}$ values in nM (nanomolar) unit."
   ]
  },
  {
   "cell_type": "code",
   "execution_count": 6,
   "metadata": {
    "colab": {},
    "colab_type": "code",
    "id": "LeFbV_CsSP8D"
   },
   "outputs": [],
   "source": [
    "activity = new_client.activity\n",
    "res = activity.filter(target_chembl_id=selected_target).filter(standard_type=\"IC50\")"
   ]
  },
  {
   "cell_type": "code",
   "execution_count": 7,
   "metadata": {
    "colab": {},
    "colab_type": "code",
    "id": "RC4T-NEmSWV-"
   },
   "outputs": [],
   "source": [
    "df = pd.DataFrame.from_dict(res)"
   ]
  },
  {
   "cell_type": "code",
   "execution_count": 8,
   "metadata": {
    "colab": {
     "base_uri": "https://localhost:8080/",
     "height": 265
    },
    "colab_type": "code",
    "id": "s9iUAXFdSkoM",
    "outputId": "c9b681cc-97ab-40fb-a735-5e2b39612f8c"
   },
   "outputs": [
    {
     "data": {
      "text/html": [
       "<div>\n",
       "<style scoped>\n",
       "    .dataframe tbody tr th:only-of-type {\n",
       "        vertical-align: middle;\n",
       "    }\n",
       "\n",
       "    .dataframe tbody tr th {\n",
       "        vertical-align: top;\n",
       "    }\n",
       "\n",
       "    .dataframe thead th {\n",
       "        text-align: right;\n",
       "    }\n",
       "</style>\n",
       "<table border=\"1\" class=\"dataframe\">\n",
       "  <thead>\n",
       "    <tr style=\"text-align: right;\">\n",
       "      <th></th>\n",
       "      <th>activity_comment</th>\n",
       "      <th>activity_id</th>\n",
       "      <th>activity_properties</th>\n",
       "      <th>assay_chembl_id</th>\n",
       "      <th>assay_description</th>\n",
       "      <th>assay_type</th>\n",
       "      <th>assay_variant_accession</th>\n",
       "      <th>assay_variant_mutation</th>\n",
       "      <th>bao_endpoint</th>\n",
       "      <th>bao_format</th>\n",
       "      <th>...</th>\n",
       "      <th>target_organism</th>\n",
       "      <th>target_pref_name</th>\n",
       "      <th>target_tax_id</th>\n",
       "      <th>text_value</th>\n",
       "      <th>toid</th>\n",
       "      <th>type</th>\n",
       "      <th>units</th>\n",
       "      <th>uo_units</th>\n",
       "      <th>upper_value</th>\n",
       "      <th>value</th>\n",
       "    </tr>\n",
       "  </thead>\n",
       "  <tbody>\n",
       "    <tr>\n",
       "      <th>0</th>\n",
       "      <td>None</td>\n",
       "      <td>530035</td>\n",
       "      <td>[]</td>\n",
       "      <td>CHEMBL661155</td>\n",
       "      <td>Inhibition of rat ovarian Cytochrome P450 19A</td>\n",
       "      <td>B</td>\n",
       "      <td>None</td>\n",
       "      <td>None</td>\n",
       "      <td>BAO_0000190</td>\n",
       "      <td>BAO_0000357</td>\n",
       "      <td>...</td>\n",
       "      <td>Rattus norvegicus</td>\n",
       "      <td>Cytochrome P450 19A1</td>\n",
       "      <td>10116</td>\n",
       "      <td>None</td>\n",
       "      <td>None</td>\n",
       "      <td>IC50</td>\n",
       "      <td>uM</td>\n",
       "      <td>UO_0000065</td>\n",
       "      <td>None</td>\n",
       "      <td>34.0</td>\n",
       "    </tr>\n",
       "    <tr>\n",
       "      <th>1</th>\n",
       "      <td>None</td>\n",
       "      <td>539290</td>\n",
       "      <td>[]</td>\n",
       "      <td>CHEMBL649360</td>\n",
       "      <td>In vitro inhibition of rat ovarian aromatase c...</td>\n",
       "      <td>B</td>\n",
       "      <td>None</td>\n",
       "      <td>None</td>\n",
       "      <td>BAO_0000190</td>\n",
       "      <td>BAO_0000357</td>\n",
       "      <td>...</td>\n",
       "      <td>Rattus norvegicus</td>\n",
       "      <td>Cytochrome P450 19A1</td>\n",
       "      <td>10116</td>\n",
       "      <td>None</td>\n",
       "      <td>None</td>\n",
       "      <td>IC50</td>\n",
       "      <td>uM</td>\n",
       "      <td>UO_0000065</td>\n",
       "      <td>None</td>\n",
       "      <td>2.0</td>\n",
       "    </tr>\n",
       "    <tr>\n",
       "      <th>2</th>\n",
       "      <td>None</td>\n",
       "      <td>553204</td>\n",
       "      <td>[]</td>\n",
       "      <td>CHEMBL649360</td>\n",
       "      <td>In vitro inhibition of rat ovarian aromatase c...</td>\n",
       "      <td>B</td>\n",
       "      <td>None</td>\n",
       "      <td>None</td>\n",
       "      <td>BAO_0000190</td>\n",
       "      <td>BAO_0000357</td>\n",
       "      <td>...</td>\n",
       "      <td>Rattus norvegicus</td>\n",
       "      <td>Cytochrome P450 19A1</td>\n",
       "      <td>10116</td>\n",
       "      <td>None</td>\n",
       "      <td>None</td>\n",
       "      <td>IC50</td>\n",
       "      <td>uM</td>\n",
       "      <td>UO_0000065</td>\n",
       "      <td>None</td>\n",
       "      <td>8.0</td>\n",
       "    </tr>\n",
       "  </tbody>\n",
       "</table>\n",
       "<p>3 rows × 45 columns</p>\n",
       "</div>"
      ],
      "text/plain": [
       "  activity_comment  activity_id activity_properties assay_chembl_id  \\\n",
       "0             None       530035                  []    CHEMBL661155   \n",
       "1             None       539290                  []    CHEMBL649360   \n",
       "2             None       553204                  []    CHEMBL649360   \n",
       "\n",
       "                                   assay_description assay_type  \\\n",
       "0      Inhibition of rat ovarian Cytochrome P450 19A          B   \n",
       "1  In vitro inhibition of rat ovarian aromatase c...          B   \n",
       "2  In vitro inhibition of rat ovarian aromatase c...          B   \n",
       "\n",
       "  assay_variant_accession assay_variant_mutation bao_endpoint   bao_format  \\\n",
       "0                    None                   None  BAO_0000190  BAO_0000357   \n",
       "1                    None                   None  BAO_0000190  BAO_0000357   \n",
       "2                    None                   None  BAO_0000190  BAO_0000357   \n",
       "\n",
       "   ...    target_organism      target_pref_name target_tax_id text_value  \\\n",
       "0  ...  Rattus norvegicus  Cytochrome P450 19A1         10116       None   \n",
       "1  ...  Rattus norvegicus  Cytochrome P450 19A1         10116       None   \n",
       "2  ...  Rattus norvegicus  Cytochrome P450 19A1         10116       None   \n",
       "\n",
       "   toid  type  units    uo_units upper_value value  \n",
       "0  None  IC50     uM  UO_0000065        None  34.0  \n",
       "1  None  IC50     uM  UO_0000065        None   2.0  \n",
       "2  None  IC50     uM  UO_0000065        None   8.0  \n",
       "\n",
       "[3 rows x 45 columns]"
      ]
     },
     "execution_count": 8,
     "metadata": {},
     "output_type": "execute_result"
    }
   ],
   "source": [
    "df.head(3)"
   ]
  },
  {
   "cell_type": "code",
   "execution_count": 9,
   "metadata": {
    "colab": {
     "base_uri": "https://localhost:8080/",
     "height": 35
    },
    "colab_type": "code",
    "id": "oNtBv36dYhxy",
    "outputId": "db6a7832-55eb-484c-b56c-98cdcd5944dd"
   },
   "outputs": [
    {
     "data": {
      "text/plain": [
       "array(['IC50'], dtype=object)"
      ]
     },
     "execution_count": 9,
     "metadata": {},
     "output_type": "execute_result"
    }
   ],
   "source": [
    "df.standard_type.unique()"
   ]
  },
  {
   "cell_type": "markdown",
   "metadata": {
    "colab_type": "text",
    "id": "fQ78N26Fg15T"
   },
   "source": [
    "Finally we will save the resulting bioactivity data to a CSV file **bioactivity_data.csv**."
   ]
  },
  {
   "cell_type": "code",
   "execution_count": 10,
   "metadata": {
    "colab": {},
    "colab_type": "code",
    "id": "ZvUUEIVxTOH1"
   },
   "outputs": [],
   "source": [
    "df.to_csv('bioactivity_data.csv', index=False)"
   ]
  },
  {
   "cell_type": "markdown",
   "metadata": {
    "colab_type": "text",
    "id": "BOrSrTGjOWU7"
   },
   "source": [
    "## **Copying files to Google Drive**"
   ]
  },
  {
   "cell_type": "markdown",
   "metadata": {
    "colab_type": "text",
    "id": "PRputWaI7ZW7"
   },
   "source": [
    "Firstly, we need to mount the Google Drive into Colab so that we can have access to our Google adrive from within Colab."
   ]
  },
  {
   "cell_type": "code",
   "execution_count": 11,
   "metadata": {
    "colab": {
     "base_uri": "https://localhost:8080/",
     "height": 124
    },
    "colab_type": "code",
    "id": "6RBX658q65A5",
    "outputId": "04a014cd-9f34-4a8f-e45f-50b380d9d41b"
   },
   "outputs": [
    {
     "ename": "ModuleNotFoundError",
     "evalue": "No module named 'google.colab'",
     "output_type": "error",
     "traceback": [
      "\u001b[0;31m---------------------------------------------------------------------------\u001b[0m",
      "\u001b[0;31mModuleNotFoundError\u001b[0m                       Traceback (most recent call last)",
      "Cell \u001b[0;32mIn [11], line 1\u001b[0m\n\u001b[0;32m----> 1\u001b[0m \u001b[38;5;28;01mfrom\u001b[39;00m \u001b[38;5;21;01mgoogle\u001b[39;00m\u001b[38;5;21;01m.\u001b[39;00m\u001b[38;5;21;01mcolab\u001b[39;00m \u001b[38;5;28;01mimport\u001b[39;00m drive\n\u001b[1;32m      2\u001b[0m drive\u001b[38;5;241m.\u001b[39mmount(\u001b[38;5;124m'\u001b[39m\u001b[38;5;124m/content/gdrive/\u001b[39m\u001b[38;5;124m'\u001b[39m, force_remount\u001b[38;5;241m=\u001b[39m\u001b[38;5;28;01mTrue\u001b[39;00m)\n",
      "\u001b[0;31mModuleNotFoundError\u001b[0m: No module named 'google.colab'"
     ]
    }
   ],
   "source": [
    "from google.colab import drive\n",
    "drive.mount('/content/gdrive/', force_remount=True)\n"
   ]
  },
  {
   "cell_type": "markdown",
   "metadata": {
    "colab_type": "text",
    "id": "CMlY0xudN1mL"
   },
   "source": [
    "Next, we create a **data** folder in our **Colab Notebooks** folder on Google Drive."
   ]
  },
  {
   "cell_type": "code",
   "execution_count": 0,
   "metadata": {
    "colab": {},
    "colab_type": "code",
    "id": "tew-UtUWIS__"
   },
   "outputs": [],
   "source": [
    "! mkdir \"/content/gdrive/My Drive/Colab Notebooks/data2\""
   ]
  },
  {
   "cell_type": "code",
   "execution_count": 0,
   "metadata": {
    "colab": {},
    "colab_type": "code",
    "id": "YDMBpK2XJ_rJ"
   },
   "outputs": [],
   "source": [
    "! cp bioactivity_data.csv \"/content/gdrive/My Drive/Colab Notebooks/data\""
   ]
  },
  {
   "cell_type": "code",
   "execution_count": 0,
   "metadata": {
    "colab": {
     "base_uri": "https://localhost:8080/",
     "height": 52
    },
    "colab_type": "code",
    "id": "iRIr1QiEJtuw",
    "outputId": "e400f4d9-3ce7-4822-8837-33eb2499c1c1"
   },
   "outputs": [
    {
     "name": "stdout",
     "output_type": "stream",
     "text": [
      "total 69\n",
      "-rw------- 1 root root 70010 Apr 29 17:10 bioactivity_data.csv\n"
     ]
    }
   ],
   "source": [
    "! ls -l \"/content/gdrive/My Drive/Colab Notebooks/data\""
   ]
  },
  {
   "cell_type": "markdown",
   "metadata": {
    "colab_type": "text",
    "id": "z9NwrYJni8CH"
   },
   "source": [
    "Let's see the CSV files that we have so far."
   ]
  },
  {
   "cell_type": "code",
   "execution_count": 0,
   "metadata": {
    "colab": {
     "base_uri": "https://localhost:8080/",
     "height": 35
    },
    "colab_type": "code",
    "id": "FO3cZC5vnCht",
    "outputId": "f5e07f1f-7a24-4d8e-ca52-e5e36e4daea1"
   },
   "outputs": [
    {
     "name": "stdout",
     "output_type": "stream",
     "text": [
      "bioactivity_data.csv  gdrive  sample_data\n"
     ]
    }
   ],
   "source": [
    "! ls"
   ]
  },
  {
   "cell_type": "markdown",
   "metadata": {
    "colab_type": "text",
    "id": "7UAasSu5jAeB"
   },
   "source": [
    "Taking a glimpse of the **bioactivity_data.csv** file that we've just created."
   ]
  },
  {
   "cell_type": "code",
   "execution_count": 0,
   "metadata": {
    "colab": {
     "base_uri": "https://localhost:8080/",
     "height": 211
    },
    "colab_type": "code",
    "id": "jwEJjx5b5gAn",
    "outputId": "69dce8c6-565d-4537-952e-b01da9f2fd83"
   },
   "outputs": [
    {
     "name": "stdout",
     "output_type": "stream",
     "text": [
      "activity_comment,activity_id,activity_properties,assay_chembl_id,assay_description,assay_type,bao_endpoint,bao_format,bao_label,canonical_smiles,data_validity_comment,data_validity_description,document_chembl_id,document_journal,document_year,ligand_efficiency,molecule_chembl_id,molecule_pref_name,parent_molecule_chembl_id,pchembl_value,potential_duplicate,qudt_units,record_id,relation,src_id,standard_flag,standard_relation,standard_text_value,standard_type,standard_units,standard_upper_value,standard_value,target_chembl_id,target_organism,target_pref_name,target_tax_id,text_value,toid,type,units,uo_units,upper_value,value\n",
      ",1480935,[],CHEMBL829584,In vitro inhibitory concentration against SARS coronavirus main protease (SARS CoV 3C-like protease),B,BAO_0000190,BAO_0000357,single protein format,Cc1noc(C)c1CN1C(=O)C(=O)c2cc(C#N)ccc21,,,CHEMBL1139624,Bioorg. Med. Chem. Lett.,2005,\"{'bei': '18.28', 'le': '0.33', 'lle': '3.25', 'sei': '5.90'}\",CHEMBL187579,,CHEMBL187579,5.14,False,http://www.openphacts.org/units/Nanomolar,384103,=,1,True,=,,IC50,nM,,7200.0,CHEMBL3927,SARS coronavirus,SARS coronavirus 3C-like proteinase,227859,,,IC50,uM,UO_0000065,,7.2\n",
      ",1480936,[],CHEMBL829584,In vitro inhibitory concentration against SARS coronavirus main protease (SARS CoV 3C-like protease),B,BAO_0000190,BAO_0000357,single protein format,O=C1C(=O)N(Cc2ccc(F)cc2Cl)c2ccc(I)cc21,,,CHEMBL1139624,Bioorg. Med. Chem. Lett.,2005,\"{'bei': '12.10', 'le': '0.33', 'lle': '1.22', 'sei': '13.45'}\",CHEMBL188487,,CHEMBL188487,5.03,False,http://www.openphacts.org/units/Nanomolar,383984,=,1,True,=,,IC50,nM,,9400.0,CHEMBL3927,SARS coronavirus,SARS coronavirus 3C-like proteinase,227859,,,IC50,uM,UO_0000065,,9.4\n",
      ",1481061,[],CHEMBL830868,In vitro inhibitory concentration against SARS coronavirus main protease (SARS CoV 3C-like protease) at 20 uM,B,BAO_0000190,BAO_0000357,single protein format,O=C1C(=O)N(CC2COc3ccccc3O2)c2ccc(I)cc21,,,CHEMBL1139624,Bioorg. Med. Chem. Lett.,2005,\"{'bei': '11.56', 'le': '0.29', 'lle': '2.21', 'sei': '8.72'}\",CHEMBL185698,,CHEMBL185698,4.87,False,http://www.openphacts.org/units/Nanomolar,384106,=,1,True,=,,IC50,nM,,13500.0,CHEMBL3927,SARS coronavirus,SARS coronavirus 3C-like proteinase,227859,,,IC50,uM,UO_0000065,,13.5\n",
      ",1481065,[],CHEMBL829584,In vitro inhibitory concentration against SARS coronavirus main protease (SARS CoV 3C-like protease),B,BAO_0000190,BAO_0000357,single protein format,O=C1C(=O)N(Cc2cc3ccccc3s2)c2ccccc21,,,CHEMBL1139624,Bioorg. Med. Chem. Lett.,2005,\"{'bei': '16.64', 'le': '0.32', 'lle': '1.25', 'sei': '13.06'}\",CHEMBL426082,,CHEMBL426082,4.88,False,http://www.openphacts.org/units/Nanomolar,384075,=,1,True,=,,IC50,nM,,13110.0,CHEMBL3927,SARS coronavirus,SARS coronavirus 3C-like proteinase,227859,,,IC50,uM,UO_0000065,,13.11\n",
      ",1481066,[],CHEMBL829584,In vitro inhibitory concentration against SARS coronavirus main protease (SARS CoV 3C-like protease),B,BAO_0000190,BAO_0000357,single protein format,O=C1C(=O)N(Cc2cc3ccccc3s2)c2c1cccc2[N+](=O)[O-],,,CHEMBL1139624,Bioorg. Med. Chem. Lett.,2005,\"{'bei': '16.84', 'le': '0.32', 'lle': '2.16', 'sei': '7.08'}\",CHEMBL187717,,CHEMBL187717,5.70,False,http://www.openphacts.org/units/Nanomolar,384234,=,1,True,=,,IC50,nM,,2000.0,CHEMBL3927,SARS coronavirus,SARS coronavirus 3C-like proteinase,227859,,,IC50,uM,UO_0000065,,2.0\n",
      ",1481068,[],CHEMBL828143,In vitro inhibitory concentration SARS coronavirus main protease (SARS CoV 3C-like protease) ,B,BAO_0000190,BAO_0000357,single protein format,O=C1C(=O)N(Cc2cc3ccccc3s2)c2c(Br)cccc21,,,CHEMBL1139624,Bioorg. Med. Chem. Lett.,2005,\"{'bei': '16.14', 'le': '0.37', 'lle': '1.62', 'sei': '16.07'}\",CHEMBL365134,,CHEMBL365134,6.01,False,http://www.openphacts.org/units/Nanomolar,384081,=,1,True,=,,IC50,nM,,980.0,CHEMBL3927,SARS coronavirus,SARS coronavirus 3C-like proteinase,227859,,,IC50,uM,UO_0000065,,0.98\n",
      ",1481088,[],CHEMBL829584,In vitro inhibitory concentration against SARS coronavirus main protease (SARS CoV 3C-like protease),B,BAO_0000190,BAO_0000357,single protein format,O=C1C(=O)N(Cc2cc3ccccc3s2)c2ccc(F)cc21,,,CHEMBL1139624,Bioorg. Med. Chem. Lett.,2005,\"{'bei': '17.08', 'le': '0.33', 'lle': '1.55', 'sei': '14.22'}\",CHEMBL187598,,CHEMBL187598,5.32,False,http://www.openphacts.org/units/Nanomolar,384303,=,1,True,=,,IC50,nM,,4820.0,CHEMBL3927,SARS coronavirus,SARS coronavirus 3C-like proteinase,227859,,,IC50,uM,UO_0000065,,4.82\n",
      ",1481089,[],CHEMBL829584,In vitro inhibitory concentration against SARS coronavirus main protease (SARS CoV 3C-like protease),B,BAO_0000190,BAO_0000357,single protein format,O=C1C(=O)N(Cc2cc3ccccc3s2)c2ccc(I)cc21,,,CHEMBL1139624,Bioorg. Med. Chem. Lett.,2005,\"{'bei': '14.36', 'le': '0.37', 'lle': '1.78', 'sei': '16.11'}\",CHEMBL190743,,CHEMBL190743,6.02,False,http://www.openphacts.org/units/Nanomolar,384329,=,1,True,=,,IC50,nM,,950.0,CHEMBL3927,SARS coronavirus,SARS coronavirus 3C-like proteinase,227859,,,IC50,uM,UO_0000065,,0.95\n",
      ",1481093,[],CHEMBL829584,In vitro inhibitory concentration against SARS coronavirus main protease (SARS CoV 3C-like protease),B,BAO_0000190,BAO_0000357,single protein format,O=C1C(=O)N(Cc2cc3ccccc3s2)c2cccc(Cl)c21,,,CHEMBL1139624,Bioorg. Med. Chem. Lett.,2005,\"{'bei': '15.10', 'le': '0.31', 'lle': '0.67', 'sei': '13.24'}\",CHEMBL365469,,CHEMBL365469,4.95,False,http://www.openphacts.org/units/Nanomolar,384283,=,1,True,=,,IC50,nM,,11200.0,CHEMBL3927,SARS coronavirus,SARS coronavirus 3C-like proteinase,227859,,,IC50,uM,UO_0000065,,11.2\n"
     ]
    }
   ],
   "source": [
    "! head bioactivity_data.csv"
   ]
  },
  {
   "cell_type": "markdown",
   "metadata": {
    "colab_type": "text",
    "id": "_GXMpFNUOn_8"
   },
   "source": [
    "## **Handling missing data**\n",
    "If any compounds has missing value for the **standard_value** column then drop it"
   ]
  },
  {
   "cell_type": "code",
   "execution_count": 12,
   "metadata": {
    "colab": {
     "base_uri": "https://localhost:8080/",
     "height": 782
    },
    "colab_type": "code",
    "id": "hkVOdk6ZR396",
    "outputId": "fc08d57e-f832-4cb0-90f2-dc7394b0209d"
   },
   "outputs": [
    {
     "data": {
      "text/html": [
       "<div>\n",
       "<style scoped>\n",
       "    .dataframe tbody tr th:only-of-type {\n",
       "        vertical-align: middle;\n",
       "    }\n",
       "\n",
       "    .dataframe tbody tr th {\n",
       "        vertical-align: top;\n",
       "    }\n",
       "\n",
       "    .dataframe thead th {\n",
       "        text-align: right;\n",
       "    }\n",
       "</style>\n",
       "<table border=\"1\" class=\"dataframe\">\n",
       "  <thead>\n",
       "    <tr style=\"text-align: right;\">\n",
       "      <th></th>\n",
       "      <th>activity_comment</th>\n",
       "      <th>activity_id</th>\n",
       "      <th>activity_properties</th>\n",
       "      <th>assay_chembl_id</th>\n",
       "      <th>assay_description</th>\n",
       "      <th>assay_type</th>\n",
       "      <th>assay_variant_accession</th>\n",
       "      <th>assay_variant_mutation</th>\n",
       "      <th>bao_endpoint</th>\n",
       "      <th>bao_format</th>\n",
       "      <th>...</th>\n",
       "      <th>target_organism</th>\n",
       "      <th>target_pref_name</th>\n",
       "      <th>target_tax_id</th>\n",
       "      <th>text_value</th>\n",
       "      <th>toid</th>\n",
       "      <th>type</th>\n",
       "      <th>units</th>\n",
       "      <th>uo_units</th>\n",
       "      <th>upper_value</th>\n",
       "      <th>value</th>\n",
       "    </tr>\n",
       "  </thead>\n",
       "  <tbody>\n",
       "    <tr>\n",
       "      <th>0</th>\n",
       "      <td>None</td>\n",
       "      <td>530035</td>\n",
       "      <td>[]</td>\n",
       "      <td>CHEMBL661155</td>\n",
       "      <td>Inhibition of rat ovarian Cytochrome P450 19A</td>\n",
       "      <td>B</td>\n",
       "      <td>None</td>\n",
       "      <td>None</td>\n",
       "      <td>BAO_0000190</td>\n",
       "      <td>BAO_0000357</td>\n",
       "      <td>...</td>\n",
       "      <td>Rattus norvegicus</td>\n",
       "      <td>Cytochrome P450 19A1</td>\n",
       "      <td>10116</td>\n",
       "      <td>None</td>\n",
       "      <td>None</td>\n",
       "      <td>IC50</td>\n",
       "      <td>uM</td>\n",
       "      <td>UO_0000065</td>\n",
       "      <td>None</td>\n",
       "      <td>34.0</td>\n",
       "    </tr>\n",
       "    <tr>\n",
       "      <th>1</th>\n",
       "      <td>None</td>\n",
       "      <td>539290</td>\n",
       "      <td>[]</td>\n",
       "      <td>CHEMBL649360</td>\n",
       "      <td>In vitro inhibition of rat ovarian aromatase c...</td>\n",
       "      <td>B</td>\n",
       "      <td>None</td>\n",
       "      <td>None</td>\n",
       "      <td>BAO_0000190</td>\n",
       "      <td>BAO_0000357</td>\n",
       "      <td>...</td>\n",
       "      <td>Rattus norvegicus</td>\n",
       "      <td>Cytochrome P450 19A1</td>\n",
       "      <td>10116</td>\n",
       "      <td>None</td>\n",
       "      <td>None</td>\n",
       "      <td>IC50</td>\n",
       "      <td>uM</td>\n",
       "      <td>UO_0000065</td>\n",
       "      <td>None</td>\n",
       "      <td>2.0</td>\n",
       "    </tr>\n",
       "    <tr>\n",
       "      <th>2</th>\n",
       "      <td>None</td>\n",
       "      <td>553204</td>\n",
       "      <td>[]</td>\n",
       "      <td>CHEMBL649360</td>\n",
       "      <td>In vitro inhibition of rat ovarian aromatase c...</td>\n",
       "      <td>B</td>\n",
       "      <td>None</td>\n",
       "      <td>None</td>\n",
       "      <td>BAO_0000190</td>\n",
       "      <td>BAO_0000357</td>\n",
       "      <td>...</td>\n",
       "      <td>Rattus norvegicus</td>\n",
       "      <td>Cytochrome P450 19A1</td>\n",
       "      <td>10116</td>\n",
       "      <td>None</td>\n",
       "      <td>None</td>\n",
       "      <td>IC50</td>\n",
       "      <td>uM</td>\n",
       "      <td>UO_0000065</td>\n",
       "      <td>None</td>\n",
       "      <td>8.0</td>\n",
       "    </tr>\n",
       "    <tr>\n",
       "      <th>3</th>\n",
       "      <td>None</td>\n",
       "      <td>615833</td>\n",
       "      <td>[]</td>\n",
       "      <td>CHEMBL664329</td>\n",
       "      <td>Binding affinity for Cytochrome P450 19A1</td>\n",
       "      <td>B</td>\n",
       "      <td>None</td>\n",
       "      <td>None</td>\n",
       "      <td>BAO_0000190</td>\n",
       "      <td>BAO_0000357</td>\n",
       "      <td>...</td>\n",
       "      <td>Rattus norvegicus</td>\n",
       "      <td>Cytochrome P450 19A1</td>\n",
       "      <td>10116</td>\n",
       "      <td>None</td>\n",
       "      <td>None</td>\n",
       "      <td>IC50</td>\n",
       "      <td>nM</td>\n",
       "      <td>UO_0000065</td>\n",
       "      <td>None</td>\n",
       "      <td>3.0</td>\n",
       "    </tr>\n",
       "    <tr>\n",
       "      <th>4</th>\n",
       "      <td>None</td>\n",
       "      <td>789248</td>\n",
       "      <td>[]</td>\n",
       "      <td>CHEMBL664334</td>\n",
       "      <td>In vitro inhibition of rat ovarian microsomal ...</td>\n",
       "      <td>B</td>\n",
       "      <td>None</td>\n",
       "      <td>None</td>\n",
       "      <td>BAO_0000190</td>\n",
       "      <td>BAO_0000019</td>\n",
       "      <td>...</td>\n",
       "      <td>Rattus norvegicus</td>\n",
       "      <td>Cytochrome P450 19A1</td>\n",
       "      <td>10116</td>\n",
       "      <td>None</td>\n",
       "      <td>None</td>\n",
       "      <td>IC50</td>\n",
       "      <td>uM</td>\n",
       "      <td>UO_0000065</td>\n",
       "      <td>None</td>\n",
       "      <td>6.2</td>\n",
       "    </tr>\n",
       "    <tr>\n",
       "      <th>5</th>\n",
       "      <td>None</td>\n",
       "      <td>819891</td>\n",
       "      <td>[]</td>\n",
       "      <td>CHEMBL664334</td>\n",
       "      <td>In vitro inhibition of rat ovarian microsomal ...</td>\n",
       "      <td>B</td>\n",
       "      <td>None</td>\n",
       "      <td>None</td>\n",
       "      <td>BAO_0000190</td>\n",
       "      <td>BAO_0000019</td>\n",
       "      <td>...</td>\n",
       "      <td>Rattus norvegicus</td>\n",
       "      <td>Cytochrome P450 19A1</td>\n",
       "      <td>10116</td>\n",
       "      <td>None</td>\n",
       "      <td>None</td>\n",
       "      <td>IC50</td>\n",
       "      <td>uM</td>\n",
       "      <td>UO_0000065</td>\n",
       "      <td>None</td>\n",
       "      <td>0.265</td>\n",
       "    </tr>\n",
       "    <tr>\n",
       "      <th>6</th>\n",
       "      <td>None</td>\n",
       "      <td>15742388</td>\n",
       "      <td>[]</td>\n",
       "      <td>CHEMBL3624597</td>\n",
       "      <td>Inhibition of rat ovarian aromatase</td>\n",
       "      <td>B</td>\n",
       "      <td>None</td>\n",
       "      <td>None</td>\n",
       "      <td>BAO_0000190</td>\n",
       "      <td>BAO_0000357</td>\n",
       "      <td>...</td>\n",
       "      <td>Rattus norvegicus</td>\n",
       "      <td>Cytochrome P450 19A1</td>\n",
       "      <td>10116</td>\n",
       "      <td>None</td>\n",
       "      <td>None</td>\n",
       "      <td>IC50</td>\n",
       "      <td>uM</td>\n",
       "      <td>UO_0000065</td>\n",
       "      <td>None</td>\n",
       "      <td>4.6</td>\n",
       "    </tr>\n",
       "    <tr>\n",
       "      <th>7</th>\n",
       "      <td>None</td>\n",
       "      <td>15742389</td>\n",
       "      <td>[]</td>\n",
       "      <td>CHEMBL3624597</td>\n",
       "      <td>Inhibition of rat ovarian aromatase</td>\n",
       "      <td>B</td>\n",
       "      <td>None</td>\n",
       "      <td>None</td>\n",
       "      <td>BAO_0000190</td>\n",
       "      <td>BAO_0000357</td>\n",
       "      <td>...</td>\n",
       "      <td>Rattus norvegicus</td>\n",
       "      <td>Cytochrome P450 19A1</td>\n",
       "      <td>10116</td>\n",
       "      <td>None</td>\n",
       "      <td>None</td>\n",
       "      <td>IC50</td>\n",
       "      <td>uM</td>\n",
       "      <td>UO_0000065</td>\n",
       "      <td>None</td>\n",
       "      <td>0.17</td>\n",
       "    </tr>\n",
       "    <tr>\n",
       "      <th>8</th>\n",
       "      <td>None</td>\n",
       "      <td>15742390</td>\n",
       "      <td>[]</td>\n",
       "      <td>CHEMBL3624597</td>\n",
       "      <td>Inhibition of rat ovarian aromatase</td>\n",
       "      <td>B</td>\n",
       "      <td>None</td>\n",
       "      <td>None</td>\n",
       "      <td>BAO_0000190</td>\n",
       "      <td>BAO_0000357</td>\n",
       "      <td>...</td>\n",
       "      <td>Rattus norvegicus</td>\n",
       "      <td>Cytochrome P450 19A1</td>\n",
       "      <td>10116</td>\n",
       "      <td>None</td>\n",
       "      <td>None</td>\n",
       "      <td>IC50</td>\n",
       "      <td>uM</td>\n",
       "      <td>UO_0000065</td>\n",
       "      <td>None</td>\n",
       "      <td>0.26</td>\n",
       "    </tr>\n",
       "    <tr>\n",
       "      <th>9</th>\n",
       "      <td>None</td>\n",
       "      <td>16433981</td>\n",
       "      <td>[]</td>\n",
       "      <td>CHEMBL3755852</td>\n",
       "      <td>Inhibition of aromatase in denucleated ovarian...</td>\n",
       "      <td>B</td>\n",
       "      <td>None</td>\n",
       "      <td>None</td>\n",
       "      <td>BAO_0000190</td>\n",
       "      <td>BAO_0000357</td>\n",
       "      <td>...</td>\n",
       "      <td>Rattus norvegicus</td>\n",
       "      <td>Cytochrome P450 19A1</td>\n",
       "      <td>10116</td>\n",
       "      <td>None</td>\n",
       "      <td>None</td>\n",
       "      <td>IC50</td>\n",
       "      <td>uM</td>\n",
       "      <td>UO_0000065</td>\n",
       "      <td>None</td>\n",
       "      <td>0.28</td>\n",
       "    </tr>\n",
       "    <tr>\n",
       "      <th>10</th>\n",
       "      <td>None</td>\n",
       "      <td>16433982</td>\n",
       "      <td>[]</td>\n",
       "      <td>CHEMBL3755852</td>\n",
       "      <td>Inhibition of aromatase in denucleated ovarian...</td>\n",
       "      <td>B</td>\n",
       "      <td>None</td>\n",
       "      <td>None</td>\n",
       "      <td>BAO_0000190</td>\n",
       "      <td>BAO_0000357</td>\n",
       "      <td>...</td>\n",
       "      <td>Rattus norvegicus</td>\n",
       "      <td>Cytochrome P450 19A1</td>\n",
       "      <td>10116</td>\n",
       "      <td>None</td>\n",
       "      <td>None</td>\n",
       "      <td>IC50</td>\n",
       "      <td>uM</td>\n",
       "      <td>UO_0000065</td>\n",
       "      <td>None</td>\n",
       "      <td>0.25</td>\n",
       "    </tr>\n",
       "  </tbody>\n",
       "</table>\n",
       "<p>11 rows × 45 columns</p>\n",
       "</div>"
      ],
      "text/plain": [
       "   activity_comment  activity_id activity_properties assay_chembl_id  \\\n",
       "0              None       530035                  []    CHEMBL661155   \n",
       "1              None       539290                  []    CHEMBL649360   \n",
       "2              None       553204                  []    CHEMBL649360   \n",
       "3              None       615833                  []    CHEMBL664329   \n",
       "4              None       789248                  []    CHEMBL664334   \n",
       "5              None       819891                  []    CHEMBL664334   \n",
       "6              None     15742388                  []   CHEMBL3624597   \n",
       "7              None     15742389                  []   CHEMBL3624597   \n",
       "8              None     15742390                  []   CHEMBL3624597   \n",
       "9              None     16433981                  []   CHEMBL3755852   \n",
       "10             None     16433982                  []   CHEMBL3755852   \n",
       "\n",
       "                                    assay_description assay_type  \\\n",
       "0       Inhibition of rat ovarian Cytochrome P450 19A          B   \n",
       "1   In vitro inhibition of rat ovarian aromatase c...          B   \n",
       "2   In vitro inhibition of rat ovarian aromatase c...          B   \n",
       "3           Binding affinity for Cytochrome P450 19A1          B   \n",
       "4   In vitro inhibition of rat ovarian microsomal ...          B   \n",
       "5   In vitro inhibition of rat ovarian microsomal ...          B   \n",
       "6                 Inhibition of rat ovarian aromatase          B   \n",
       "7                 Inhibition of rat ovarian aromatase          B   \n",
       "8                 Inhibition of rat ovarian aromatase          B   \n",
       "9   Inhibition of aromatase in denucleated ovarian...          B   \n",
       "10  Inhibition of aromatase in denucleated ovarian...          B   \n",
       "\n",
       "   assay_variant_accession assay_variant_mutation bao_endpoint   bao_format  \\\n",
       "0                     None                   None  BAO_0000190  BAO_0000357   \n",
       "1                     None                   None  BAO_0000190  BAO_0000357   \n",
       "2                     None                   None  BAO_0000190  BAO_0000357   \n",
       "3                     None                   None  BAO_0000190  BAO_0000357   \n",
       "4                     None                   None  BAO_0000190  BAO_0000019   \n",
       "5                     None                   None  BAO_0000190  BAO_0000019   \n",
       "6                     None                   None  BAO_0000190  BAO_0000357   \n",
       "7                     None                   None  BAO_0000190  BAO_0000357   \n",
       "8                     None                   None  BAO_0000190  BAO_0000357   \n",
       "9                     None                   None  BAO_0000190  BAO_0000357   \n",
       "10                    None                   None  BAO_0000190  BAO_0000357   \n",
       "\n",
       "    ...    target_organism      target_pref_name target_tax_id text_value  \\\n",
       "0   ...  Rattus norvegicus  Cytochrome P450 19A1         10116       None   \n",
       "1   ...  Rattus norvegicus  Cytochrome P450 19A1         10116       None   \n",
       "2   ...  Rattus norvegicus  Cytochrome P450 19A1         10116       None   \n",
       "3   ...  Rattus norvegicus  Cytochrome P450 19A1         10116       None   \n",
       "4   ...  Rattus norvegicus  Cytochrome P450 19A1         10116       None   \n",
       "5   ...  Rattus norvegicus  Cytochrome P450 19A1         10116       None   \n",
       "6   ...  Rattus norvegicus  Cytochrome P450 19A1         10116       None   \n",
       "7   ...  Rattus norvegicus  Cytochrome P450 19A1         10116       None   \n",
       "8   ...  Rattus norvegicus  Cytochrome P450 19A1         10116       None   \n",
       "9   ...  Rattus norvegicus  Cytochrome P450 19A1         10116       None   \n",
       "10  ...  Rattus norvegicus  Cytochrome P450 19A1         10116       None   \n",
       "\n",
       "    toid  type  units    uo_units upper_value  value  \n",
       "0   None  IC50     uM  UO_0000065        None   34.0  \n",
       "1   None  IC50     uM  UO_0000065        None    2.0  \n",
       "2   None  IC50     uM  UO_0000065        None    8.0  \n",
       "3   None  IC50     nM  UO_0000065        None    3.0  \n",
       "4   None  IC50     uM  UO_0000065        None    6.2  \n",
       "5   None  IC50     uM  UO_0000065        None  0.265  \n",
       "6   None  IC50     uM  UO_0000065        None    4.6  \n",
       "7   None  IC50     uM  UO_0000065        None   0.17  \n",
       "8   None  IC50     uM  UO_0000065        None   0.26  \n",
       "9   None  IC50     uM  UO_0000065        None   0.28  \n",
       "10  None  IC50     uM  UO_0000065        None   0.25  \n",
       "\n",
       "[11 rows x 45 columns]"
      ]
     },
     "execution_count": 12,
     "metadata": {},
     "output_type": "execute_result"
    }
   ],
   "source": [
    "df2 = df[df.standard_value.notna()]\n",
    "df2"
   ]
  },
  {
   "cell_type": "markdown",
   "metadata": {
    "colab_type": "text",
    "id": "Y-qNsUlmjS25"
   },
   "source": [
    "Apparently, for this dataset there is no missing data. But we can use the above code cell for bioactivity data of other target protein."
   ]
  },
  {
   "cell_type": "markdown",
   "metadata": {
    "colab_type": "text",
    "id": "5H4sSFAWhV9B"
   },
   "source": [
    "## **Data pre-processing of the bioactivity data**"
   ]
  },
  {
   "cell_type": "markdown",
   "metadata": {
    "colab_type": "text",
    "id": "tO22XVlzhkXR"
   },
   "source": [
    "### **Labeling compounds as either being active, inactive or intermediate**\n",
    "The bioactivity data is in the IC50 unit. Compounds having values of less than 1000 nM will be considered to be **active** while those greater than 10,000 nM will be considered to be **inactive**. As for those values in between 1,000 and 10,000 nM will be referred to as **intermediate**. "
   ]
  },
  {
   "cell_type": "code",
   "execution_count": 13,
   "metadata": {
    "colab": {},
    "colab_type": "code",
    "id": "1E8rz7oMOd-5"
   },
   "outputs": [],
   "source": [
    "bioactivity_class = []\n",
    "for i in df2.standard_value:\n",
    "  if float(i) >= 10000:\n",
    "    bioactivity_class.append(\"inactive\")\n",
    "  elif float(i) <= 1000:\n",
    "    bioactivity_class.append(\"active\")\n",
    "  else:\n",
    "    bioactivity_class.append(\"intermediate\")"
   ]
  },
  {
   "cell_type": "markdown",
   "metadata": {
    "colab_type": "text",
    "id": "PFsmb2N9hnTB"
   },
   "source": [
    "### **Iterate the *molecule_chembl_id* to a list**"
   ]
  },
  {
   "cell_type": "code",
   "execution_count": 14,
   "metadata": {
    "colab": {},
    "colab_type": "code",
    "id": "DMJng9xnVnMM"
   },
   "outputs": [],
   "source": [
    "mol_cid = []\n",
    "for i in df2.molecule_chembl_id:\n",
    "  mol_cid.append(i)"
   ]
  },
  {
   "cell_type": "markdown",
   "metadata": {
    "colab_type": "text",
    "id": "YRieJc9dhuVZ"
   },
   "source": [
    "### **Iterate *canonical_smiles* to a list**"
   ]
  },
  {
   "cell_type": "code",
   "execution_count": 15,
   "metadata": {
    "colab": {},
    "colab_type": "code",
    "id": "AT8qUBk1eVmj"
   },
   "outputs": [],
   "source": [
    "canonical_smiles = []\n",
    "for i in df2.canonical_smiles:\n",
    "  canonical_smiles.append(i)"
   ]
  },
  {
   "cell_type": "markdown",
   "metadata": {
    "colab_type": "text",
    "id": "DZFugUXxhwjE"
   },
   "source": [
    "### **Iterate *standard_value* to a list**"
   ]
  },
  {
   "cell_type": "code",
   "execution_count": 16,
   "metadata": {
    "colab": {},
    "colab_type": "code",
    "id": "ZaPt-FjEZNBe"
   },
   "outputs": [],
   "source": [
    "standard_value = []\n",
    "for i in df2.standard_value:\n",
    "  standard_value.append(i)"
   ]
  },
  {
   "cell_type": "markdown",
   "metadata": {
    "colab_type": "text",
    "id": "Nv2dzid_hzKd"
   },
   "source": [
    "### **Combine the 4 lists into a dataframe**"
   ]
  },
  {
   "cell_type": "code",
   "execution_count": 17,
   "metadata": {
    "colab": {},
    "colab_type": "code",
    "id": "TWlYO4I3Wrh-"
   },
   "outputs": [],
   "source": [
    "data_tuples = list(zip(mol_cid, canonical_smiles, bioactivity_class, standard_value))\n",
    "df3 = pd.DataFrame( data_tuples,  columns=['molecule_chembl_id', 'canonical_smiles', 'bioactivity_class', 'standard_value'])"
   ]
  },
  {
   "cell_type": "code",
   "execution_count": 18,
   "metadata": {
    "colab": {
     "base_uri": "https://localhost:8080/",
     "height": 415
    },
    "colab_type": "code",
    "id": "Li64nUiZQ-y2",
    "outputId": "a1d4cdb5-922d-4573-9f8b-abcb7ef72a58"
   },
   "outputs": [
    {
     "data": {
      "text/html": [
       "<div>\n",
       "<style scoped>\n",
       "    .dataframe tbody tr th:only-of-type {\n",
       "        vertical-align: middle;\n",
       "    }\n",
       "\n",
       "    .dataframe tbody tr th {\n",
       "        vertical-align: top;\n",
       "    }\n",
       "\n",
       "    .dataframe thead th {\n",
       "        text-align: right;\n",
       "    }\n",
       "</style>\n",
       "<table border=\"1\" class=\"dataframe\">\n",
       "  <thead>\n",
       "    <tr style=\"text-align: right;\">\n",
       "      <th></th>\n",
       "      <th>molecule_chembl_id</th>\n",
       "      <th>canonical_smiles</th>\n",
       "      <th>bioactivity_class</th>\n",
       "      <th>standard_value</th>\n",
       "    </tr>\n",
       "  </thead>\n",
       "  <tbody>\n",
       "    <tr>\n",
       "      <th>0</th>\n",
       "      <td>CHEMBL488</td>\n",
       "      <td>CCC1(c2ccc(N)cc2)CCC(=O)NC1=O</td>\n",
       "      <td>inactive</td>\n",
       "      <td>34000.0</td>\n",
       "    </tr>\n",
       "    <tr>\n",
       "      <th>1</th>\n",
       "      <td>CHEMBL93828</td>\n",
       "      <td>O=C1c2cccc(O)c2CCC1Cc1ccncc1</td>\n",
       "      <td>intermediate</td>\n",
       "      <td>2000.0</td>\n",
       "    </tr>\n",
       "    <tr>\n",
       "      <th>2</th>\n",
       "      <td>CHEMBL90427</td>\n",
       "      <td>COc1cccc2c1CCC(Cc1ccncc1)C2=O</td>\n",
       "      <td>intermediate</td>\n",
       "      <td>8000.0</td>\n",
       "    </tr>\n",
       "    <tr>\n",
       "      <th>3</th>\n",
       "      <td>CHEMBL100749</td>\n",
       "      <td>Cn1nnc2ccc(C(c3ccc(Cl)cc3)n3cncn3)cc21</td>\n",
       "      <td>active</td>\n",
       "      <td>3.0</td>\n",
       "    </tr>\n",
       "    <tr>\n",
       "      <th>4</th>\n",
       "      <td>CHEMBL488</td>\n",
       "      <td>CCC1(c2ccc(N)cc2)CCC(=O)NC1=O</td>\n",
       "      <td>intermediate</td>\n",
       "      <td>6200.0</td>\n",
       "    </tr>\n",
       "    <tr>\n",
       "      <th>5</th>\n",
       "      <td>CHEMBL294361</td>\n",
       "      <td>COc1ccc2c(c1)C1C(CC2)C1c1ccncc1</td>\n",
       "      <td>active</td>\n",
       "      <td>265.0</td>\n",
       "    </tr>\n",
       "    <tr>\n",
       "      <th>6</th>\n",
       "      <td>CHEMBL90585</td>\n",
       "      <td>O=C1/C(=C/c2ccncc2)CCc2ccccc21</td>\n",
       "      <td>intermediate</td>\n",
       "      <td>4600.0</td>\n",
       "    </tr>\n",
       "    <tr>\n",
       "      <th>7</th>\n",
       "      <td>CHEMBL168434</td>\n",
       "      <td>O=C1/C(=C/c2c[nH]cn2)CCc2ccccc21</td>\n",
       "      <td>active</td>\n",
       "      <td>170.0</td>\n",
       "    </tr>\n",
       "    <tr>\n",
       "      <th>8</th>\n",
       "      <td>CHEMBL169251</td>\n",
       "      <td>O=C1/C(=C\\c2c[nH]cn2)CCc2ccccc21</td>\n",
       "      <td>active</td>\n",
       "      <td>260.0</td>\n",
       "    </tr>\n",
       "    <tr>\n",
       "      <th>9</th>\n",
       "      <td>CHEMBL3753401</td>\n",
       "      <td>C[C@@H]1OC(=O)C[C@H]2[C@@H]3CCC4=CC(=O)CC[C@]4...</td>\n",
       "      <td>active</td>\n",
       "      <td>280.0</td>\n",
       "    </tr>\n",
       "    <tr>\n",
       "      <th>10</th>\n",
       "      <td>CHEMBL3754484</td>\n",
       "      <td>C[C@@H]1OC(=O)C[C@H]2[C@@H]3C=C[C@H]4C[C@@H](O...</td>\n",
       "      <td>active</td>\n",
       "      <td>250.0</td>\n",
       "    </tr>\n",
       "  </tbody>\n",
       "</table>\n",
       "</div>"
      ],
      "text/plain": [
       "   molecule_chembl_id                                   canonical_smiles  \\\n",
       "0           CHEMBL488                      CCC1(c2ccc(N)cc2)CCC(=O)NC1=O   \n",
       "1         CHEMBL93828                       O=C1c2cccc(O)c2CCC1Cc1ccncc1   \n",
       "2         CHEMBL90427                      COc1cccc2c1CCC(Cc1ccncc1)C2=O   \n",
       "3        CHEMBL100749             Cn1nnc2ccc(C(c3ccc(Cl)cc3)n3cncn3)cc21   \n",
       "4           CHEMBL488                      CCC1(c2ccc(N)cc2)CCC(=O)NC1=O   \n",
       "5        CHEMBL294361                    COc1ccc2c(c1)C1C(CC2)C1c1ccncc1   \n",
       "6         CHEMBL90585                     O=C1/C(=C/c2ccncc2)CCc2ccccc21   \n",
       "7        CHEMBL168434                   O=C1/C(=C/c2c[nH]cn2)CCc2ccccc21   \n",
       "8        CHEMBL169251                   O=C1/C(=C\\c2c[nH]cn2)CCc2ccccc21   \n",
       "9       CHEMBL3753401  C[C@@H]1OC(=O)C[C@H]2[C@@H]3CCC4=CC(=O)CC[C@]4...   \n",
       "10      CHEMBL3754484  C[C@@H]1OC(=O)C[C@H]2[C@@H]3C=C[C@H]4C[C@@H](O...   \n",
       "\n",
       "   bioactivity_class standard_value  \n",
       "0           inactive        34000.0  \n",
       "1       intermediate         2000.0  \n",
       "2       intermediate         8000.0  \n",
       "3             active            3.0  \n",
       "4       intermediate         6200.0  \n",
       "5             active          265.0  \n",
       "6       intermediate         4600.0  \n",
       "7             active          170.0  \n",
       "8             active          260.0  \n",
       "9             active          280.0  \n",
       "10            active          250.0  "
      ]
     },
     "execution_count": 18,
     "metadata": {},
     "output_type": "execute_result"
    }
   ],
   "source": [
    "df3"
   ]
  },
  {
   "cell_type": "markdown",
   "metadata": {
    "colab_type": "text",
    "id": "vE0Vvo6ic3MI"
   },
   "source": [
    "### **Alternative method**"
   ]
  },
  {
   "cell_type": "code",
   "execution_count": 19,
   "metadata": {
    "colab": {
     "base_uri": "https://localhost:8080/",
     "height": 415
    },
    "colab_type": "code",
    "id": "VICiiCtqc2ne",
    "outputId": "0b39e703-b724-4f02-d86c-ea07791cdeed"
   },
   "outputs": [
    {
     "data": {
      "text/html": [
       "<div>\n",
       "<style scoped>\n",
       "    .dataframe tbody tr th:only-of-type {\n",
       "        vertical-align: middle;\n",
       "    }\n",
       "\n",
       "    .dataframe tbody tr th {\n",
       "        vertical-align: top;\n",
       "    }\n",
       "\n",
       "    .dataframe thead th {\n",
       "        text-align: right;\n",
       "    }\n",
       "</style>\n",
       "<table border=\"1\" class=\"dataframe\">\n",
       "  <thead>\n",
       "    <tr style=\"text-align: right;\">\n",
       "      <th></th>\n",
       "      <th>molecule_chembl_id</th>\n",
       "      <th>canonical_smiles</th>\n",
       "      <th>standard_value</th>\n",
       "    </tr>\n",
       "  </thead>\n",
       "  <tbody>\n",
       "    <tr>\n",
       "      <th>0</th>\n",
       "      <td>CHEMBL488</td>\n",
       "      <td>CCC1(c2ccc(N)cc2)CCC(=O)NC1=O</td>\n",
       "      <td>34000.0</td>\n",
       "    </tr>\n",
       "    <tr>\n",
       "      <th>1</th>\n",
       "      <td>CHEMBL93828</td>\n",
       "      <td>O=C1c2cccc(O)c2CCC1Cc1ccncc1</td>\n",
       "      <td>2000.0</td>\n",
       "    </tr>\n",
       "    <tr>\n",
       "      <th>2</th>\n",
       "      <td>CHEMBL90427</td>\n",
       "      <td>COc1cccc2c1CCC(Cc1ccncc1)C2=O</td>\n",
       "      <td>8000.0</td>\n",
       "    </tr>\n",
       "    <tr>\n",
       "      <th>3</th>\n",
       "      <td>CHEMBL100749</td>\n",
       "      <td>Cn1nnc2ccc(C(c3ccc(Cl)cc3)n3cncn3)cc21</td>\n",
       "      <td>3.0</td>\n",
       "    </tr>\n",
       "    <tr>\n",
       "      <th>4</th>\n",
       "      <td>CHEMBL488</td>\n",
       "      <td>CCC1(c2ccc(N)cc2)CCC(=O)NC1=O</td>\n",
       "      <td>6200.0</td>\n",
       "    </tr>\n",
       "    <tr>\n",
       "      <th>5</th>\n",
       "      <td>CHEMBL294361</td>\n",
       "      <td>COc1ccc2c(c1)C1C(CC2)C1c1ccncc1</td>\n",
       "      <td>265.0</td>\n",
       "    </tr>\n",
       "    <tr>\n",
       "      <th>6</th>\n",
       "      <td>CHEMBL90585</td>\n",
       "      <td>O=C1/C(=C/c2ccncc2)CCc2ccccc21</td>\n",
       "      <td>4600.0</td>\n",
       "    </tr>\n",
       "    <tr>\n",
       "      <th>7</th>\n",
       "      <td>CHEMBL168434</td>\n",
       "      <td>O=C1/C(=C/c2c[nH]cn2)CCc2ccccc21</td>\n",
       "      <td>170.0</td>\n",
       "    </tr>\n",
       "    <tr>\n",
       "      <th>8</th>\n",
       "      <td>CHEMBL169251</td>\n",
       "      <td>O=C1/C(=C\\c2c[nH]cn2)CCc2ccccc21</td>\n",
       "      <td>260.0</td>\n",
       "    </tr>\n",
       "    <tr>\n",
       "      <th>9</th>\n",
       "      <td>CHEMBL3753401</td>\n",
       "      <td>C[C@@H]1OC(=O)C[C@H]2[C@@H]3CCC4=CC(=O)CC[C@]4...</td>\n",
       "      <td>280.0</td>\n",
       "    </tr>\n",
       "    <tr>\n",
       "      <th>10</th>\n",
       "      <td>CHEMBL3754484</td>\n",
       "      <td>C[C@@H]1OC(=O)C[C@H]2[C@@H]3C=C[C@H]4C[C@@H](O...</td>\n",
       "      <td>250.0</td>\n",
       "    </tr>\n",
       "  </tbody>\n",
       "</table>\n",
       "</div>"
      ],
      "text/plain": [
       "   molecule_chembl_id                                   canonical_smiles  \\\n",
       "0           CHEMBL488                      CCC1(c2ccc(N)cc2)CCC(=O)NC1=O   \n",
       "1         CHEMBL93828                       O=C1c2cccc(O)c2CCC1Cc1ccncc1   \n",
       "2         CHEMBL90427                      COc1cccc2c1CCC(Cc1ccncc1)C2=O   \n",
       "3        CHEMBL100749             Cn1nnc2ccc(C(c3ccc(Cl)cc3)n3cncn3)cc21   \n",
       "4           CHEMBL488                      CCC1(c2ccc(N)cc2)CCC(=O)NC1=O   \n",
       "5        CHEMBL294361                    COc1ccc2c(c1)C1C(CC2)C1c1ccncc1   \n",
       "6         CHEMBL90585                     O=C1/C(=C/c2ccncc2)CCc2ccccc21   \n",
       "7        CHEMBL168434                   O=C1/C(=C/c2c[nH]cn2)CCc2ccccc21   \n",
       "8        CHEMBL169251                   O=C1/C(=C\\c2c[nH]cn2)CCc2ccccc21   \n",
       "9       CHEMBL3753401  C[C@@H]1OC(=O)C[C@H]2[C@@H]3CCC4=CC(=O)CC[C@]4...   \n",
       "10      CHEMBL3754484  C[C@@H]1OC(=O)C[C@H]2[C@@H]3C=C[C@H]4C[C@@H](O...   \n",
       "\n",
       "   standard_value  \n",
       "0         34000.0  \n",
       "1          2000.0  \n",
       "2          8000.0  \n",
       "3             3.0  \n",
       "4          6200.0  \n",
       "5           265.0  \n",
       "6          4600.0  \n",
       "7           170.0  \n",
       "8           260.0  \n",
       "9           280.0  \n",
       "10          250.0  "
      ]
     },
     "execution_count": 19,
     "metadata": {},
     "output_type": "execute_result"
    }
   ],
   "source": [
    "selection = ['molecule_chembl_id', 'canonical_smiles', 'standard_value']\n",
    "df3 = df2[selection]\n",
    "df3"
   ]
  },
  {
   "cell_type": "code",
   "execution_count": 24,
   "metadata": {
    "colab": {
     "base_uri": "https://localhost:8080/",
     "height": 415
    },
    "colab_type": "code",
    "id": "d8nV77oWdbq1",
    "outputId": "2df59721-3567-48bc-a732-a0b09fa8aa12"
   },
   "outputs": [],
   "source": [
    "df4= pd.concat([df3,pd.Series(bioactivity_class)], axis=1)"
   ]
  },
  {
   "cell_type": "markdown",
   "metadata": {
    "colab_type": "text",
    "id": "9tlgyexWh7YJ"
   },
   "source": [
    "Saves dataframe to CSV file"
   ]
  },
  {
   "cell_type": "code",
   "execution_count": 25,
   "metadata": {
    "colab": {},
    "colab_type": "code",
    "id": "nSNia7suXstR"
   },
   "outputs": [],
   "source": [
    "df4.to_csv('bioactivity_preprocessed_data.csv', index=False)"
   ]
  },
  {
   "cell_type": "code",
   "execution_count": 23,
   "metadata": {},
   "outputs": [
    {
     "data": {
      "text/html": [
       "<div>\n",
       "<style scoped>\n",
       "    .dataframe tbody tr th:only-of-type {\n",
       "        vertical-align: middle;\n",
       "    }\n",
       "\n",
       "    .dataframe tbody tr th {\n",
       "        vertical-align: top;\n",
       "    }\n",
       "\n",
       "    .dataframe thead th {\n",
       "        text-align: right;\n",
       "    }\n",
       "</style>\n",
       "<table border=\"1\" class=\"dataframe\">\n",
       "  <thead>\n",
       "    <tr style=\"text-align: right;\">\n",
       "      <th></th>\n",
       "      <th>molecule_chembl_id</th>\n",
       "      <th>canonical_smiles</th>\n",
       "      <th>standard_value</th>\n",
       "    </tr>\n",
       "  </thead>\n",
       "  <tbody>\n",
       "    <tr>\n",
       "      <th>0</th>\n",
       "      <td>CHEMBL488</td>\n",
       "      <td>CCC1(c2ccc(N)cc2)CCC(=O)NC1=O</td>\n",
       "      <td>34000.0</td>\n",
       "    </tr>\n",
       "    <tr>\n",
       "      <th>1</th>\n",
       "      <td>CHEMBL93828</td>\n",
       "      <td>O=C1c2cccc(O)c2CCC1Cc1ccncc1</td>\n",
       "      <td>2000.0</td>\n",
       "    </tr>\n",
       "    <tr>\n",
       "      <th>2</th>\n",
       "      <td>CHEMBL90427</td>\n",
       "      <td>COc1cccc2c1CCC(Cc1ccncc1)C2=O</td>\n",
       "      <td>8000.0</td>\n",
       "    </tr>\n",
       "    <tr>\n",
       "      <th>3</th>\n",
       "      <td>CHEMBL100749</td>\n",
       "      <td>Cn1nnc2ccc(C(c3ccc(Cl)cc3)n3cncn3)cc21</td>\n",
       "      <td>3.0</td>\n",
       "    </tr>\n",
       "    <tr>\n",
       "      <th>4</th>\n",
       "      <td>CHEMBL488</td>\n",
       "      <td>CCC1(c2ccc(N)cc2)CCC(=O)NC1=O</td>\n",
       "      <td>6200.0</td>\n",
       "    </tr>\n",
       "    <tr>\n",
       "      <th>5</th>\n",
       "      <td>CHEMBL294361</td>\n",
       "      <td>COc1ccc2c(c1)C1C(CC2)C1c1ccncc1</td>\n",
       "      <td>265.0</td>\n",
       "    </tr>\n",
       "    <tr>\n",
       "      <th>6</th>\n",
       "      <td>CHEMBL90585</td>\n",
       "      <td>O=C1/C(=C/c2ccncc2)CCc2ccccc21</td>\n",
       "      <td>4600.0</td>\n",
       "    </tr>\n",
       "    <tr>\n",
       "      <th>7</th>\n",
       "      <td>CHEMBL168434</td>\n",
       "      <td>O=C1/C(=C/c2c[nH]cn2)CCc2ccccc21</td>\n",
       "      <td>170.0</td>\n",
       "    </tr>\n",
       "    <tr>\n",
       "      <th>8</th>\n",
       "      <td>CHEMBL169251</td>\n",
       "      <td>O=C1/C(=C\\c2c[nH]cn2)CCc2ccccc21</td>\n",
       "      <td>260.0</td>\n",
       "    </tr>\n",
       "    <tr>\n",
       "      <th>9</th>\n",
       "      <td>CHEMBL3753401</td>\n",
       "      <td>C[C@@H]1OC(=O)C[C@H]2[C@@H]3CCC4=CC(=O)CC[C@]4...</td>\n",
       "      <td>280.0</td>\n",
       "    </tr>\n",
       "    <tr>\n",
       "      <th>10</th>\n",
       "      <td>CHEMBL3754484</td>\n",
       "      <td>C[C@@H]1OC(=O)C[C@H]2[C@@H]3C=C[C@H]4C[C@@H](O...</td>\n",
       "      <td>250.0</td>\n",
       "    </tr>\n",
       "  </tbody>\n",
       "</table>\n",
       "</div>"
      ],
      "text/plain": [
       "   molecule_chembl_id                                   canonical_smiles  \\\n",
       "0           CHEMBL488                      CCC1(c2ccc(N)cc2)CCC(=O)NC1=O   \n",
       "1         CHEMBL93828                       O=C1c2cccc(O)c2CCC1Cc1ccncc1   \n",
       "2         CHEMBL90427                      COc1cccc2c1CCC(Cc1ccncc1)C2=O   \n",
       "3        CHEMBL100749             Cn1nnc2ccc(C(c3ccc(Cl)cc3)n3cncn3)cc21   \n",
       "4           CHEMBL488                      CCC1(c2ccc(N)cc2)CCC(=O)NC1=O   \n",
       "5        CHEMBL294361                    COc1ccc2c(c1)C1C(CC2)C1c1ccncc1   \n",
       "6         CHEMBL90585                     O=C1/C(=C/c2ccncc2)CCc2ccccc21   \n",
       "7        CHEMBL168434                   O=C1/C(=C/c2c[nH]cn2)CCc2ccccc21   \n",
       "8        CHEMBL169251                   O=C1/C(=C\\c2c[nH]cn2)CCc2ccccc21   \n",
       "9       CHEMBL3753401  C[C@@H]1OC(=O)C[C@H]2[C@@H]3CCC4=CC(=O)CC[C@]4...   \n",
       "10      CHEMBL3754484  C[C@@H]1OC(=O)C[C@H]2[C@@H]3C=C[C@H]4C[C@@H](O...   \n",
       "\n",
       "   standard_value  \n",
       "0         34000.0  \n",
       "1          2000.0  \n",
       "2          8000.0  \n",
       "3             3.0  \n",
       "4          6200.0  \n",
       "5           265.0  \n",
       "6          4600.0  \n",
       "7           170.0  \n",
       "8           260.0  \n",
       "9           280.0  \n",
       "10          250.0  "
      ]
     },
     "execution_count": 23,
     "metadata": {},
     "output_type": "execute_result"
    }
   ],
   "source": [
    "df3"
   ]
  },
  {
   "cell_type": "code",
   "execution_count": 0,
   "metadata": {
    "colab": {
     "base_uri": "https://localhost:8080/",
     "height": 104
    },
    "colab_type": "code",
    "id": "UuZf5-MEd-H5",
    "outputId": "19e008f4-267b-490b-9b2c-e5f88a47a48a"
   },
   "outputs": [
    {
     "name": "stdout",
     "output_type": "stream",
     "text": [
      "total 92\n",
      "-rw-r--r-- 1 root root 70010 Apr 29 17:07 bioactivity_data.csv\n",
      "-rw-r--r-- 1 root root  9326 Apr 29 17:24 bioactivity_preprocessed_data.csv\n",
      "drwx------ 4 root root  4096 Apr 29 17:08 gdrive\n",
      "drwxr-xr-x 1 root root  4096 Apr  3 16:24 sample_data\n"
     ]
    }
   ],
   "source": [
    "! ls -l"
   ]
  },
  {
   "cell_type": "markdown",
   "metadata": {
    "colab_type": "text",
    "id": "_C7rqJKTePhV"
   },
   "source": [
    "Let's copy to the Google Drive"
   ]
  },
  {
   "cell_type": "code",
   "execution_count": 0,
   "metadata": {
    "colab": {},
    "colab_type": "code",
    "id": "ZfyvJcENeHDB"
   },
   "outputs": [],
   "source": [
    "! cp bioactivity_preprocessed_data.csv \"/content/gdrive/My Drive/Colab Notebooks/data\""
   ]
  },
  {
   "cell_type": "code",
   "execution_count": 0,
   "metadata": {
    "colab": {
     "base_uri": "https://localhost:8080/",
     "height": 35
    },
    "colab_type": "code",
    "id": "7PU7yU9leLV5",
    "outputId": "c07ddf6b-e372-4807-bc0f-7f0b2944a0cf"
   },
   "outputs": [
    {
     "name": "stdout",
     "output_type": "stream",
     "text": [
      "bioactivity_data.csv  bioactivity_preprocessed_data.csv\n"
     ]
    }
   ],
   "source": [
    "! ls \"/content/gdrive/My Drive/Colab Notebooks/data\""
   ]
  },
  {
   "cell_type": "markdown",
   "metadata": {
    "colab_type": "text",
    "id": "ZywB5K_Dlawb"
   },
   "source": [
    "---"
   ]
  }
 ],
 "metadata": {
  "colab": {
   "collapsed_sections": [],
   "name": "CDD-ML-Part-1-bioactivity-data.ipynb",
   "provenance": []
  },
  "kernelspec": {
   "display_name": "Python 3 (ipykernel)",
   "language": "python",
   "name": "python3"
  },
  "language_info": {
   "codemirror_mode": {
    "name": "ipython",
    "version": 3
   },
   "file_extension": ".py",
   "mimetype": "text/x-python",
   "name": "python",
   "nbconvert_exporter": "python",
   "pygments_lexer": "ipython3",
   "version": "3.10.6"
  },
  "toc": {
   "base_numbering": 1,
   "nav_menu": {},
   "number_sections": true,
   "sideBar": true,
   "skip_h1_title": false,
   "title_cell": "Table of Contents",
   "title_sidebar": "Contents",
   "toc_cell": false,
   "toc_position": {},
   "toc_section_display": true,
   "toc_window_display": false
  },
  "varInspector": {
   "cols": {
    "lenName": 16,
    "lenType": 16,
    "lenVar": 40
   },
   "kernels_config": {
    "python": {
     "delete_cmd_postfix": "",
     "delete_cmd_prefix": "del ",
     "library": "var_list.py",
     "varRefreshCmd": "print(var_dic_list())"
    },
    "r": {
     "delete_cmd_postfix": ") ",
     "delete_cmd_prefix": "rm(",
     "library": "var_list.r",
     "varRefreshCmd": "cat(var_dic_list()) "
    }
   },
   "types_to_exclude": [
    "module",
    "function",
    "builtin_function_or_method",
    "instance",
    "_Feature"
   ],
   "window_display": false
  }
 },
 "nbformat": 4,
 "nbformat_minor": 1
}
